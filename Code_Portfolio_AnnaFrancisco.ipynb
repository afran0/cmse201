{
 "cells": [
  {
   "cell_type": "markdown",
   "metadata": {},
   "source": [
    "# Code Portfolio AnnaFrancisco"
   ]
  },
  {
   "cell_type": "markdown",
   "metadata": {
    "id": "UcBh6JsSyO88"
   },
   "source": [
    "# Looping by Index\n",
    "\n",
    "The code below loops by index over the value of `x` and adds 4 to all of the values. \n",
    "\n",
    "When I use this code, I need to change:\n",
    "\n",
    "- `range(len(x))` (specifically, the value `x`) to whatever we are looping over.\n",
    "- `x[gg] = x[gg]+4` To whatever procedure we want the loop to be repeating.\n"
   ]
  },
  {
   "cell_type": "code",
   "execution_count": null,
   "metadata": {
    "id": "yM5nIUbryIFO"
   },
   "outputs": [],
   "source": [
    "x = [4,12,16,22,33,49]\n",
    "\n",
    "for gg in range(len(x)):\n",
    "    x[gg] = x[gg]+4"
   ]
  },
  {
   "cell_type": "markdown",
   "metadata": {},
   "source": [
    "# List functions"
   ]
  },
  {
   "cell_type": "code",
   "execution_count": null,
   "metadata": {},
   "outputs": [],
   "source": [
    "list.append(x) #Adds an additional element x to the end\n",
    "list.copy() #Creates a copy. This is helpful when you want to edit a list once and not edit the original list.\n",
    "list.insert(idx, val) #Inserts the value val into list at index idx.\n",
    "list.remove(x) #Removes the first instance of x from the list\n",
    "list.reverse() #reverses the list  \n",
    "list.sort() #sorts in ascending order by default, can add parameter reverse=True to sort descending.\n",
    "\n",
    "list_example = [1,2,3,4]\n",
    "dict_example= {'first': 1, 'second': 2, 'third': 3, 'fourth': 4}\n",
    "\n",
    "for key in dict_example:\n",
    "    print(key)\n",
    "for key in dict_example:\n",
    "    print(dict_example[key])"
   ]
  },
  {
   "cell_type": "markdown",
   "metadata": {},
   "source": [
    "# Function Structure"
   ]
  },
  {
   "cell_type": "code",
   "execution_count": null,
   "metadata": {},
   "outputs": [],
   "source": [
    "# Basic structure of a function\n",
    "def func_name(param_a, param_b):\n",
    "    return 0\n",
    "\n",
    "range(start=0, stop, step=1)"
   ]
  },
  {
   "cell_type": "markdown",
   "metadata": {
    "id": "xyVBy5YHAgwh"
   },
   "source": [
    "# Pandas\n",
    "\n",
    "The code below reads in a .csv file using Pandas's `read_csv` function. This should really only be used for CSV files or Excel files (using `read_excel`). Use Numpy's `fromfile` to read in binary (.bin) or Yaff (.yaff) files.\n",
    "\n",
    "When I use this code, I need to change:\n",
    "\n",
    "- `data` to be a more descriptive variable name.\n",
    "- `dataset.csv` to the name of the data file.\n",
    "- `delimeter` if the delimeter isn't a comma (other delimeters include `;`).\n",
    "- `skiprows` if there are rows at the top of the file I want to skip.\n",
    "- `encoding` if the encoding is something other than `utf-8` (other encodings include `utf-16be`)."
   ]
  },
  {
   "cell_type": "code",
   "execution_count": null,
   "metadata": {
    "id": "5BH6qNBPAeR-"
   },
   "outputs": [],
   "source": [
    "import pandas as pd\n",
    "\n",
    "data = pd.read_csv('dataset.csv',delimiter=',',skiprows=0,encoding='utf-8')\n",
    "\n",
    "mpg_mask = auto['mpg'] > 23 #define the mask\n",
    "masked_auto = auto[mpg_mask] #apply the mask\n",
    "masked_auto\n",
    "\n",
    "pd.read_csv() # The common function we use to read .csv data\n",
    "df.head(n) # displays the first n rows of data from df\n",
    "df.tail(n) # displays the last n rows of data from df\n",
    "df.describe() #displays summary statistics for df\n",
    "df['column_name'] #displays a dataframe of a single column from your data\n",
    "df.index = df['column_name'] # A quick method of using a column's values as your index rather than the default system\n",
    "df.columns = [] #Renames the columns of df to the names passed into the list.\n",
    "df.iloc[row_idx, col_idx] #Returns the value(s) at the given row, col. These can be ranges such as df.iloc[1:3, :] \n",
    "#for all columns in rows 1 through 3. Used to access data by its indices/position\n",
    "df.loc[row_name, col_name] # Returns the value(s) at the given row, col. These can be ranges such as df.loc['row_name1:row_name2, col_name1:col_name2] \n",
    "#Used to access data by it's label/name\n",
    "df.dropna() #Removes rows/columns that contain missing values."
   ]
  },
  {
   "cell_type": "code",
   "execution_count": null,
   "metadata": {},
   "outputs": [],
   "source": [
    "Example_DataFrame = pd.DataFrame([['A',0,1,2,3],['B',4,5,6,7],['C',8,9,10,11],['D',12,13,14,15]]) \n",
    "Example_DataFrame.index = Example_DataFrame[0] \n",
    "Example_DataFrame = Example_DataFrame.iloc[:,1:] \n",
    "Example_DataFrame.columns = ['Col_1', 'Col_2', 'Col_3','Col_4'] "
   ]
  },
  {
   "cell_type": "code",
   "execution_count": null,
   "metadata": {
    "id": "7IsiKikf7vHB"
   },
   "outputs": [],
   "source": [
    "import matplotlib.pyplot as plt\n",
    "%matplotlib inline\n",
    "\n",
    "plt.plot(x_data,y_data,label=\"X Data\")\n",
    "plt.xlabel(\"X Data\")\n",
    "plt.ylabel(\"Y Data\")\n",
    "plt.title(\"X Vs. Y Dataset\")\n",
    "plt.grid()\n",
    "\n",
    "plt.figure(figsize=[10,8])\n",
    "plt.scatter(x_ary, y_ary, marker='x')\n",
    "plt.scatter(x_ary2, y_ary2, color='red', s = 10)\n",
    "plt.xlabel(\"X values\")\n",
    "plt.ylabel(\"Y values\")\n",
    "plt.title(\"Scatter plot of X vs Y\")\n",
    "\n",
    "#standard procedure to creating subplots is: \n",
    "plt.subplot(rows, cols, position), where position is a number between 1 and rows*cols\n",
    "\n",
    "plt.plot() \n",
    "plt.scatter()"
   ]
  },
  {
   "cell_type": "markdown",
   "metadata": {
    "id": "C4XfkOK-92lb"
   },
   "source": [
    "# Numpy\n",
    "\n",
    "The code below reads in a .bin file using Numpy's `fromfile` function. This works for all kinds of file types, including binary (.bin) and yaff (.yaff). \n",
    "\n",
    "When I use this code, I need to change:\n",
    "\n",
    "- `data` to be a more descriptive variable name.\n",
    "- `dataset.bin` to the name of the data file.\n",
    "- `dtype` to be whatever the data type that this file uses (other commonly used types are `float32`). "
   ]
  },
  {
   "cell_type": "code",
   "execution_count": null,
   "metadata": {
    "id": "KY37qcz196LA"
   },
   "outputs": [],
   "source": [
    "import numpy as np\n",
    "\n",
    "data = np.fromfile('dataset.bin', dtype='int32') \n",
    "\n",
    "np.arange(start, stop, step) #Returns an array of numbers from start to stop in increments of step.\n",
    "np.linspace(start, stop, num) #Returns an array of num evenly spaced numbers\n",
    "np.nan #Constant for a \"not a number\" value"
   ]
  },
  {
   "cell_type": "markdown",
   "metadata": {},
   "source": [
    "# Matplot"
   ]
  },
  {
   "cell_type": "code",
   "execution_count": null,
   "metadata": {},
   "outputs": [],
   "source": [
    "import matplotlib.pyplot as plt\n",
    "%matplotlib inline\n",
    "\n",
    "plt.plot(x_data,y_data,label=\"X Data\")\n",
    "plt.xlabel(\"X Data\")\n",
    "plt.ylabel(\"Y Data\")\n",
    "plt.title(\"X Vs. Y Dataset\")\n",
    "plt.grid()\n",
    "\n",
    "plt.figure(figsize=[figsizeX,figsizeY])\n",
    "plt.scatter(x_ary, y_ary, marker='x')\n",
    "plt.scatter(x_ary2, y_ary2, color='red', s = 10)\n",
    "plt.xlabel(\"X values\")\n",
    "plt.ylabel(\"Y values\")\n",
    "plt.title(\"Scatter plot of X vs Y\")\n",
    "\n",
    "#standard procedure to creating subplots is: \n",
    "plt.subplot(rows, cols, position) #where position is a number between 1 and rows*cols\n",
    "\n"
   ]
  },
  {
   "cell_type": "markdown",
   "metadata": {},
   "source": [
    "# Loop Examples"
   ]
  },
  {
   "cell_type": "code",
   "execution_count": null,
   "metadata": {},
   "outputs": [],
   "source": [
    "i=0\n",
    "while i < 10\n",
    "    print(i)\n",
    "    i+=1\n",
    "\n",
    "    \n",
    "current=1\n",
    "while current < 45\n",
    "    current=current*5\n",
    "    print(current)\n",
    "\n",
    "    \n",
    "mylist=[data]\n",
    "value=False\n",
    "i=0\n",
    "while value==False\n",
    "    print(mylist[i])\n",
    "    if mylist[i] > 75:\n",
    "        value=True\n",
    "    else:\n",
    "        value = False\n",
    "    print(value)\n",
    "    i+=1"
   ]
  },
  {
   "cell_type": "code",
   "execution_count": null,
   "metadata": {},
   "outputs": [],
   "source": [
    "for i in range(6):\n",
    "    if i == 3:\n",
    "        print(i, \"Three\")\n",
    "    elif i == 4:\n",
    "        print(i, \"Four\")\n",
    "    else:\n",
    "        print(i, \"Not Three or Four\")\n",
    "        \n",
    "for x in range(10):\n",
    "    if x >= 2:\n",
    "        if x <= 5:\n",
    "            print(x, \"Between 2 and 5\")\n",
    "        else:\n",
    "            print(x)\n",
    "    else:\n",
    "        print(x)"
   ]
  },
  {
   "cell_type": "markdown",
   "metadata": {},
   "source": [
    "# Masking"
   ]
  },
  {
   "cell_type": "code",
   "execution_count": null,
   "metadata": {},
   "outputs": [],
   "source": [
    "mask = vals > (number)\n",
    "vals_masked=vals[masked]\n"
   ]
  }
 ],
 "metadata": {
  "colab": {
   "collapsed_sections": [],
   "name": "Code_Portfolio_Example.ipynb",
   "provenance": []
  },
  "kernelspec": {
   "display_name": "Python 3 (ipykernel)",
   "language": "python",
   "name": "python3"
  },
  "language_info": {
   "codemirror_mode": {
    "name": "ipython",
    "version": 3
   },
   "file_extension": ".py",
   "mimetype": "text/x-python",
   "name": "python",
   "nbconvert_exporter": "python",
   "pygments_lexer": "ipython3",
   "version": "3.11.4"
  }
 },
 "nbformat": 4,
 "nbformat_minor": 4
}
